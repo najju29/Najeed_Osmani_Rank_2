{
  "nbformat": 4,
  "nbformat_minor": 0,
  "metadata": {
    "colab": {
      "name": "machineHack_buyer's time.ipynb",
      "provenance": [],
      "collapsed_sections": [],
      "toc_visible": true
    },
    "kernelspec": {
      "display_name": "Python 3",
      "name": "python3"
    }
  },
  "cells": [
    {
      "cell_type": "markdown",
      "metadata": {
        "id": "z9mPyk4juDzR"
      },
      "source": [
        "# Data Preprocessing and EDA"
      ]
    },
    {
      "cell_type": "code",
      "metadata": {
        "id": "jIG44U36UFQ0"
      },
      "source": [
        "import numpy as np \r\n",
        "import pandas as pd\r\n",
        "import matplotlib.pyplot as plt\r\n",
        "import seaborn as sns"
      ],
      "execution_count": 1,
      "outputs": []
    },
    {
      "cell_type": "code",
      "metadata": {
        "id": "utH1YQPSXFfO"
      },
      "source": [
        "train_data=pd.read_csv(\"/content/drive/MyDrive/Machinehack competitions/Buyer's time Prediction/ParticipantData_BTPC/Train.csv\")\r\n",
        "test_data=pd.read_csv(\"/content/drive/MyDrive/Machinehack competitions/Buyer's time Prediction/ParticipantData_BTPC/Test.csv\")\r\n",
        "sample_data=pd.read_csv(\"/content/drive/MyDrive/Machinehack competitions/Buyer's time Prediction/ParticipantData_BTPC/Sample Submission.csv\")"
      ],
      "execution_count": 2,
      "outputs": []
    },
    {
      "cell_type": "code",
      "metadata": {
        "colab": {
          "base_uri": "https://localhost:8080/",
          "height": 363
        },
        "id": "dpmdJDxBXzEJ",
        "outputId": "d096d7bf-09ef-4bc4-942f-631a22a3a370"
      },
      "source": [
        "train_data.head()"
      ],
      "execution_count": 3,
      "outputs": [
        {
          "output_type": "execute_result",
          "data": {
            "text/html": [
              "<div>\n",
              "<style scoped>\n",
              "    .dataframe tbody tr th:only-of-type {\n",
              "        vertical-align: middle;\n",
              "    }\n",
              "\n",
              "    .dataframe tbody tr th {\n",
              "        vertical-align: top;\n",
              "    }\n",
              "\n",
              "    .dataframe thead th {\n",
              "        text-align: right;\n",
              "    }\n",
              "</style>\n",
              "<table border=\"1\" class=\"dataframe\">\n",
              "  <thead>\n",
              "    <tr style=\"text-align: right;\">\n",
              "      <th></th>\n",
              "      <th>session_id</th>\n",
              "      <th>session_number</th>\n",
              "      <th>client_agent</th>\n",
              "      <th>device_details</th>\n",
              "      <th>date</th>\n",
              "      <th>purchased</th>\n",
              "      <th>added_in_cart</th>\n",
              "      <th>checked_out</th>\n",
              "      <th>time_spent</th>\n",
              "    </tr>\n",
              "  </thead>\n",
              "  <tbody>\n",
              "    <tr>\n",
              "      <th>0</th>\n",
              "      <td>57f879e70d3c5fc2a98102d64c9fd84e</td>\n",
              "      <td>715</td>\n",
              "      <td>Mozilla/5.0 (Windows NT 6.1; WOW64) AppleWebKi...</td>\n",
              "      <td>Desktop - Chrome</td>\n",
              "      <td>2020-01-22</td>\n",
              "      <td>1</td>\n",
              "      <td>0</td>\n",
              "      <td>0</td>\n",
              "      <td>236.886</td>\n",
              "    </tr>\n",
              "    <tr>\n",
              "      <th>1</th>\n",
              "      <td>a5442b0c7c33d0a811e7661e556b2de8</td>\n",
              "      <td>55</td>\n",
              "      <td>Product/8.0 iPhone/8.1.3</td>\n",
              "      <td>iPhone - iOS</td>\n",
              "      <td>2020-02-27</td>\n",
              "      <td>1</td>\n",
              "      <td>0</td>\n",
              "      <td>0</td>\n",
              "      <td>1277.455</td>\n",
              "    </tr>\n",
              "    <tr>\n",
              "      <th>2</th>\n",
              "      <td>305cb1486ed8610c00b37007926cb2c4</td>\n",
              "      <td>11</td>\n",
              "      <td>Mozilla/5.0 (iPhone; CPU iPhone OS 7_1_2 like ...</td>\n",
              "      <td>iPhone - MobileWeb</td>\n",
              "      <td>2019-08-01</td>\n",
              "      <td>0</td>\n",
              "      <td>0</td>\n",
              "      <td>0</td>\n",
              "      <td>21.704</td>\n",
              "    </tr>\n",
              "    <tr>\n",
              "      <th>3</th>\n",
              "      <td>f2c1ecc9993f0071df91ba178450498c</td>\n",
              "      <td>2794</td>\n",
              "      <td>Mozilla/5.0 (compatible; MSIE 9.0; Windows NT ...</td>\n",
              "      <td>Desktop - IE</td>\n",
              "      <td>2019-12-30</td>\n",
              "      <td>0</td>\n",
              "      <td>1</td>\n",
              "      <td>0</td>\n",
              "      <td>455.201</td>\n",
              "    </tr>\n",
              "    <tr>\n",
              "      <th>4</th>\n",
              "      <td>e460830ae295e55d2216ebdc761ab9a6</td>\n",
              "      <td>3674</td>\n",
              "      <td>Mozilla/5.0 (iPhone; CPU iPhone OS 7_1_1 like ...</td>\n",
              "      <td>iPhone - Web</td>\n",
              "      <td>2019-09-10</td>\n",
              "      <td>0</td>\n",
              "      <td>0</td>\n",
              "      <td>0</td>\n",
              "      <td>1164.877</td>\n",
              "    </tr>\n",
              "  </tbody>\n",
              "</table>\n",
              "</div>"
            ],
            "text/plain": [
              "                         session_id  session_number  ... checked_out time_spent\n",
              "0  57f879e70d3c5fc2a98102d64c9fd84e             715  ...           0    236.886\n",
              "1  a5442b0c7c33d0a811e7661e556b2de8              55  ...           0   1277.455\n",
              "2  305cb1486ed8610c00b37007926cb2c4              11  ...           0     21.704\n",
              "3  f2c1ecc9993f0071df91ba178450498c            2794  ...           0    455.201\n",
              "4  e460830ae295e55d2216ebdc761ab9a6            3674  ...           0   1164.877\n",
              "\n",
              "[5 rows x 9 columns]"
            ]
          },
          "metadata": {
            "tags": []
          },
          "execution_count": 3
        }
      ]
    },
    {
      "cell_type": "code",
      "metadata": {
        "colab": {
          "base_uri": "https://localhost:8080/",
          "height": 353
        },
        "id": "3E0aWkbH0eM_",
        "outputId": "8ed08441-014c-4bc7-c9cb-77c3a18d4652"
      },
      "source": [
        "sns.boxplot(train_data['time_spent'])"
      ],
      "execution_count": 4,
      "outputs": [
        {
          "output_type": "stream",
          "text": [
            "/usr/local/lib/python3.6/dist-packages/seaborn/_decorators.py:43: FutureWarning: Pass the following variable as a keyword arg: x. From version 0.12, the only valid positional argument will be `data`, and passing other arguments without an explicit keyword will result in an error or misinterpretation.\n",
            "  FutureWarning\n"
          ],
          "name": "stderr"
        },
        {
          "output_type": "execute_result",
          "data": {
            "text/plain": [
              "<matplotlib.axes._subplots.AxesSubplot at 0x7f6aed167048>"
            ]
          },
          "metadata": {
            "tags": []
          },
          "execution_count": 4
        },
        {
          "output_type": "display_data",
          "data": {
            "image/png": "[encoded data removed]",
            "text/plain": [
              "<Figure size 432x288 with 1 Axes>"
            ]
          },
          "metadata": {
            "tags": [],
            "needs_background": "light"
          }
        }
      ]
    },
    {
      "cell_type": "code",
      "metadata": {
        "id": "otFKZgFbkrBx"
      },
      "source": [
        "train_data.drop(train_data[train_data['time_spent']>27000].index,axis=0,inplace=True)"
      ],
      "execution_count": 5,
      "outputs": []
    },
    {
      "cell_type": "code",
      "metadata": {
        "colab": {
          "base_uri": "https://localhost:8080/",
          "height": 298
        },
        "id": "1iS9MO8TMQzU",
        "outputId": "ea7936c3-43db-4239-9577-1a704dbf84a1"
      },
      "source": [
        "sns.scatterplot(x=train_data['session_number'],y=train_data['time_spent'])"
      ],
      "execution_count": null,
      "outputs": [
        {
          "output_type": "execute_result",
          "data": {
            "text/plain": [
              "<matplotlib.axes._subplots.AxesSubplot at 0x7f3581299940>"
            ]
          },
          "metadata": {
            "tags": []
          },
          "execution_count": 7
        },
        {
          "output_type": "display_data",
          "data": {
            "image/png": "[encoded data removed]",
            "text/plain": [
              "<Figure size 432x288 with 1 Axes>"
            ]
          },
          "metadata": {
            "tags": []
          }
        }
      ]
    },
    {
      "cell_type": "code",
      "metadata": {
        "colab": {
          "base_uri": "https://localhost:8080/",
          "height": 438
        },
        "id": "akxfKrmFMRDw",
        "outputId": "db378290-a762-4cb1-f8f2-23136b810dc9"
      },
      "source": [
        "fig=plt.figure(figsize=(26,8))\r\n",
        "sns.countplot(train_data['device_details'])"
      ],
      "execution_count": null,
      "outputs": [
        {
          "output_type": "stream",
          "text": [
            "/usr/local/lib/python3.6/dist-packages/seaborn/_decorators.py:43: FutureWarning: Pass the following variable as a keyword arg: x. From version 0.12, the only valid positional argument will be `data`, and passing other arguments without an explicit keyword will result in an error or misinterpretation.\n",
            "  FutureWarning\n"
          ],
          "name": "stderr"
        },
        {
          "output_type": "execute_result",
          "data": {
            "text/plain": [
              "<matplotlib.axes._subplots.AxesSubplot at 0x7f3580a75710>"
            ]
          },
          "metadata": {
            "tags": []
          },
          "execution_count": 8
        },
        {
          "output_type": "display_data",
          "data": {
            "image/png": "[encoded data removed]",
            "text/plain": [
              "<Figure size 1872x576 with 1 Axes>"
            ]
          },
          "metadata": {
            "tags": []
          }
        }
      ]
    },
    {
      "cell_type": "code",
      "metadata": {
        "colab": {
          "base_uri": "https://localhost:8080/",
          "height": 443
        },
        "id": "pDumzbtgMRTQ",
        "outputId": "076b4523-9fb3-4600-b63e-2d73c5c7988f"
      },
      "source": [
        "fig=plt.figure(figsize=(26,8))\r\n",
        "sns.countplot(train_data['purchased'])"
      ],
      "execution_count": null,
      "outputs": [
        {
          "output_type": "stream",
          "text": [
            "/usr/local/lib/python3.6/dist-packages/seaborn/_decorators.py:43: FutureWarning: Pass the following variable as a keyword arg: x. From version 0.12, the only valid positional argument will be `data`, and passing other arguments without an explicit keyword will result in an error or misinterpretation.\n",
            "  FutureWarning\n"
          ],
          "name": "stderr"
        },
        {
          "output_type": "execute_result",
          "data": {
            "text/plain": [
              "<matplotlib.axes._subplots.AxesSubplot at 0x7f3580a399b0>"
            ]
          },
          "metadata": {
            "tags": []
          },
          "execution_count": 9
        },
        {
          "output_type": "display_data",
          "data": {
            "image/png": "[encoded data removed]",
            "text/plain": [
              "<Figure size 1872x576 with 1 Axes>"
            ]
          },
          "metadata": {
            "tags": []
          }
        }
      ]
    },
    {
      "cell_type": "code",
      "metadata": {
        "colab": {
          "base_uri": "https://localhost:8080/",
          "height": 444
        },
        "id": "uNz-r8ROMRjH",
        "outputId": "f8fc6544-a77a-452c-b941-6014b1908c2c"
      },
      "source": [
        "fig=plt.figure(figsize=(26,8))\r\n",
        "sns.countplot(train_data['added_in_cart'])"
      ],
      "execution_count": null,
      "outputs": [
        {
          "output_type": "stream",
          "text": [
            "/usr/local/lib/python3.6/dist-packages/seaborn/_decorators.py:43: FutureWarning: Pass the following variable as a keyword arg: x. From version 0.12, the only valid positional argument will be `data`, and passing other arguments without an explicit keyword will result in an error or misinterpretation.\n",
            "  FutureWarning\n"
          ],
          "name": "stderr"
        },
        {
          "output_type": "execute_result",
          "data": {
            "text/plain": [
              "<matplotlib.axes._subplots.AxesSubplot at 0x7fe4d194a128>"
            ]
          },
          "metadata": {
            "tags": []
          },
          "execution_count": 19
        },
        {
          "output_type": "display_data",
          "data": {
            "image/png": "[encoded data removed]",
            "text/plain": [
              "<Figure size 1872x576 with 1 Axes>"
            ]
          },
          "metadata": {
            "tags": []
          }
        }
      ]
    },
    {
      "cell_type": "code",
      "metadata": {
        "colab": {
          "base_uri": "https://localhost:8080/",
          "height": 444
        },
        "id": "mYFY1essMRxP",
        "outputId": "83c7da77-a110-4781-b446-f8e2af6681f4"
      },
      "source": [
        "fig=plt.figure(figsize=(26,8))\r\n",
        "sns.countplot(train_data['checked_out'])"
      ],
      "execution_count": null,
      "outputs": [
        {
          "output_type": "stream",
          "text": [
            "/usr/local/lib/python3.6/dist-packages/seaborn/_decorators.py:43: FutureWarning: Pass the following variable as a keyword arg: x. From version 0.12, the only valid positional argument will be `data`, and passing other arguments without an explicit keyword will result in an error or misinterpretation.\n",
            "  FutureWarning\n"
          ],
          "name": "stderr"
        },
        {
          "output_type": "execute_result",
          "data": {
            "text/plain": [
              "<matplotlib.axes._subplots.AxesSubplot at 0x7fe4d18c54a8>"
            ]
          },
          "metadata": {
            "tags": []
          },
          "execution_count": 20
        },
        {
          "output_type": "display_data",
          "data": {
            "image/png": "[encoded data removed]",
            "text/plain": [
              "<Figure size 1872x576 with 1 Axes>"
            ]
          },
          "metadata": {
            "tags": []
          }
        }
      ]
    },
    {
      "cell_type": "code",
      "metadata": {
        "colab": {
          "base_uri": "https://localhost:8080/",
          "height": 35
        },
        "id": "6ISIiHj_vHDR",
        "outputId": "9c0f2894-af08-4550-cecd-8327fb2ba1a5"
      },
      "source": [
        "train_data['client_agent'][4]"
      ],
      "execution_count": null,
      "outputs": [
        {
          "output_type": "execute_result",
          "data": {
            "application/vnd.google.colaboratory.intrinsic+json": {
              "type": "string"
            },
            "text/plain": [
              "'Mozilla/5.0 (iPhone; CPU iPhone OS 7_1_1 like Mac OS X) AppleWebKit/537.51.2 (KHTML, like Gecko) Mobile/11D201'"
            ]
          },
          "metadata": {
            "tags": []
          },
          "execution_count": 49
        }
      ]
    },
    {
      "cell_type": "markdown",
      "metadata": {
        "id": "Titl0M-JZMMN"
      },
      "source": [
        "# Metric"
      ]
    },
    {
      "cell_type": "code",
      "metadata": {
        "id": "OdcthxGFngMe"
      },
      "source": [
        "import numpy as np\r\n",
        "import math\r\n",
        "from keras import backend as K\r\n",
        "import tensorflow as tf\r\n",
        "from sklearn.metrics import mean_squared_log_error, make_scorer\r\n",
        "\r\n",
        "def rmsle(true_y, predicted_y):\r\n",
        "  true_y_=np.abs(true_y)\r\n",
        "  predicted_y_=np.abs(predicted_y)\r\n",
        "  score=mean_squared_log_error(true_y_,predicted_y_)\r\n",
        "  return np.sqrt(score)\r\n",
        "\r\n",
        "RMSLE=make_scorer(rmsle)"
      ],
      "execution_count": 6,
      "outputs": []
    },
    {
      "cell_type": "markdown",
      "metadata": {
        "id": "AU2IqsG9ZPWK"
      },
      "source": [
        "# Data Preprocessing"
      ]
    },
    {
      "cell_type": "code",
      "metadata": {
        "id": "9_cYnfWhZTHq"
      },
      "source": [
        "total_df=pd.concat([train_data.drop(['session_id','time_spent','client_agent'],axis=1),test_data.drop(['session_id','client_agent'],axis=1)],axis=0,ignore_index=True)"
      ],
      "execution_count": 7,
      "outputs": []
    },
    {
      "cell_type": "code",
      "metadata": {
        "colab": {
          "base_uri": "https://localhost:8080/"
        },
        "id": "1pTZ5ptd2ccE",
        "outputId": "a8838fd1-2abd-4ca0-d1fc-089ebb892db3"
      },
      "source": [
        "total_df.info()"
      ],
      "execution_count": 8,
      "outputs": [
        {
          "output_type": "stream",
          "text": [
            "<class 'pandas.core.frame.DataFrame'>\n",
            "RangeIndex: 7754 entries, 0 to 7753\n",
            "Data columns (total 6 columns):\n",
            " #   Column          Non-Null Count  Dtype \n",
            "---  ------          --------------  ----- \n",
            " 0   session_number  7754 non-null   int64 \n",
            " 1   device_details  7754 non-null   object\n",
            " 2   date            7754 non-null   object\n",
            " 3   purchased       7754 non-null   int64 \n",
            " 4   added_in_cart   7754 non-null   int64 \n",
            " 5   checked_out     7754 non-null   int64 \n",
            "dtypes: int64(4), object(2)\n",
            "memory usage: 363.6+ KB\n"
          ],
          "name": "stdout"
        }
      ]
    },
    {
      "cell_type": "code",
      "metadata": {
        "id": "bIW7scObX9-k"
      },
      "source": [
        "total_df['date'] = pd.to_datetime(total_df.date, format='%Y-%m-%d')"
      ],
      "execution_count": 9,
      "outputs": []
    },
    {
      "cell_type": "code",
      "metadata": {
        "colab": {
          "base_uri": "https://localhost:8080/"
        },
        "id": "J5iko5zAZmKs",
        "outputId": "f6057a91-fde8-4265-cc20-c6abc0008388"
      },
      "source": [
        "total_df['year'] = total_df['date'].dt.year\r\n",
        "total_df['month'] = total_df['date'].dt.month\r\n",
        "total_df['week'] = total_df['date'].dt.week\r\n",
        "total_df['Day'] = total_df['date'].dt.day\r\n",
        "total_df['dayofweek'] = total_df['date'].dt.dayofweek"
      ],
      "execution_count": 10,
      "outputs": [
        {
          "output_type": "stream",
          "text": [
            "/usr/local/lib/python3.6/dist-packages/ipykernel_launcher.py:3: FutureWarning: Series.dt.weekofyear and Series.dt.week have been deprecated.  Please use Series.dt.isocalendar().week instead.\n",
            "  This is separate from the ipykernel package so we can avoid doing imports until\n"
          ],
          "name": "stderr"
        }
      ]
    },
    {
      "cell_type": "code",
      "metadata": {
        "colab": {
          "base_uri": "https://localhost:8080/",
          "height": 195
        },
        "id": "40hM486lbF_7",
        "outputId": "848aac45-5c88-42ed-e422-dc458003d735"
      },
      "source": [
        "total_df.head(n=5)"
      ],
      "execution_count": 11,
      "outputs": [
        {
          "output_type": "execute_result",
          "data": {
            "text/html": [
              "<div>\n",
              "<style scoped>\n",
              "    .dataframe tbody tr th:only-of-type {\n",
              "        vertical-align: middle;\n",
              "    }\n",
              "\n",
              "    .dataframe tbody tr th {\n",
              "        vertical-align: top;\n",
              "    }\n",
              "\n",
              "    .dataframe thead th {\n",
              "        text-align: right;\n",
              "    }\n",
              "</style>\n",
              "<table border=\"1\" class=\"dataframe\">\n",
              "  <thead>\n",
              "    <tr style=\"text-align: right;\">\n",
              "      <th></th>\n",
              "      <th>session_number</th>\n",
              "      <th>device_details</th>\n",
              "      <th>date</th>\n",
              "      <th>purchased</th>\n",
              "      <th>added_in_cart</th>\n",
              "      <th>checked_out</th>\n",
              "      <th>year</th>\n",
              "      <th>month</th>\n",
              "      <th>week</th>\n",
              "      <th>Day</th>\n",
              "      <th>dayofweek</th>\n",
              "    </tr>\n",
              "  </thead>\n",
              "  <tbody>\n",
              "    <tr>\n",
              "      <th>0</th>\n",
              "      <td>715</td>\n",
              "      <td>Desktop - Chrome</td>\n",
              "      <td>2020-01-22</td>\n",
              "      <td>1</td>\n",
              "      <td>0</td>\n",
              "      <td>0</td>\n",
              "      <td>2020</td>\n",
              "      <td>1</td>\n",
              "      <td>4</td>\n",
              "      <td>22</td>\n",
              "      <td>2</td>\n",
              "    </tr>\n",
              "    <tr>\n",
              "      <th>1</th>\n",
              "      <td>55</td>\n",
              "      <td>iPhone - iOS</td>\n",
              "      <td>2020-02-27</td>\n",
              "      <td>1</td>\n",
              "      <td>0</td>\n",
              "      <td>0</td>\n",
              "      <td>2020</td>\n",
              "      <td>2</td>\n",
              "      <td>9</td>\n",
              "      <td>27</td>\n",
              "      <td>3</td>\n",
              "    </tr>\n",
              "    <tr>\n",
              "      <th>2</th>\n",
              "      <td>11</td>\n",
              "      <td>iPhone - MobileWeb</td>\n",
              "      <td>2019-08-01</td>\n",
              "      <td>0</td>\n",
              "      <td>0</td>\n",
              "      <td>0</td>\n",
              "      <td>2019</td>\n",
              "      <td>8</td>\n",
              "      <td>31</td>\n",
              "      <td>1</td>\n",
              "      <td>3</td>\n",
              "    </tr>\n",
              "    <tr>\n",
              "      <th>3</th>\n",
              "      <td>2794</td>\n",
              "      <td>Desktop - IE</td>\n",
              "      <td>2019-12-30</td>\n",
              "      <td>0</td>\n",
              "      <td>1</td>\n",
              "      <td>0</td>\n",
              "      <td>2019</td>\n",
              "      <td>12</td>\n",
              "      <td>1</td>\n",
              "      <td>30</td>\n",
              "      <td>0</td>\n",
              "    </tr>\n",
              "    <tr>\n",
              "      <th>4</th>\n",
              "      <td>3674</td>\n",
              "      <td>iPhone - Web</td>\n",
              "      <td>2019-09-10</td>\n",
              "      <td>0</td>\n",
              "      <td>0</td>\n",
              "      <td>0</td>\n",
              "      <td>2019</td>\n",
              "      <td>9</td>\n",
              "      <td>37</td>\n",
              "      <td>10</td>\n",
              "      <td>1</td>\n",
              "    </tr>\n",
              "  </tbody>\n",
              "</table>\n",
              "</div>"
            ],
            "text/plain": [
              "   session_number      device_details       date  ...  week  Day  dayofweek\n",
              "0             715    Desktop - Chrome 2020-01-22  ...     4   22          2\n",
              "1              55        iPhone - iOS 2020-02-27  ...     9   27          3\n",
              "2              11  iPhone - MobileWeb 2019-08-01  ...    31    1          3\n",
              "3            2794        Desktop - IE 2019-12-30  ...     1   30          0\n",
              "4            3674        iPhone - Web 2019-09-10  ...    37   10          1\n",
              "\n",
              "[5 rows x 11 columns]"
            ]
          },
          "metadata": {
            "tags": []
          },
          "execution_count": 11
        }
      ]
    },
    {
      "cell_type": "code",
      "metadata": {
        "colab": {
          "base_uri": "https://localhost:8080/"
        },
        "id": "84IIpNdqbIuF",
        "outputId": "5db42816-0c1d-48e2-ecd1-404ba7d01f06"
      },
      "source": [
        "total_df['device_details'].unique()"
      ],
      "execution_count": 12,
      "outputs": [
        {
          "output_type": "execute_result",
          "data": {
            "text/plain": [
              "array(['Desktop - Chrome', 'iPhone - iOS', 'iPhone - MobileWeb',\n",
              "       'Desktop - IE', 'iPhone - Web', 'Android Phone - Android',\n",
              "       'Desktop - Firefox', 'Android Tablet - Web', 'iPad - Web',\n",
              "       'Other - Other', 'Desktop - Safari', 'Android Phone - Web',\n",
              "       'iPad - iOS', 'Android Phone - MobileWeb', 'Unknown - MobileWeb',\n",
              "       'Android Tablet - Android', 'Android Tablet - MobileWeb'],\n",
              "      dtype=object)"
            ]
          },
          "metadata": {
            "tags": []
          },
          "execution_count": 12
        }
      ]
    },
    {
      "cell_type": "code",
      "metadata": {
        "id": "2m4D6P33bbeT"
      },
      "source": [
        "def return_initial(s):\r\n",
        "  t=s.split('-')\r\n",
        "  return t[0]\r\n",
        "\r\n",
        "total_df['device_details_name']=total_df['device_details'].apply(return_initial)"
      ],
      "execution_count": 14,
      "outputs": []
    },
    {
      "cell_type": "code",
      "metadata": {
        "id": "5ZRqIMhKglPM"
      },
      "source": [
        "def return_last(s):\r\n",
        "  t=s.split('-')\r\n",
        "  return t[1]\r\n",
        "\r\n",
        "total_df['device_details_browser']=total_df['device_details'].apply(return_last)"
      ],
      "execution_count": 16,
      "outputs": []
    },
    {
      "cell_type": "code",
      "metadata": {
        "colab": {
          "base_uri": "https://localhost:8080/",
          "height": 299
        },
        "id": "SSSe1hadhSM_",
        "outputId": "bc4cd724-f593-4c7f-e42e-4b86d7a3b207"
      },
      "source": [
        "total_df.head()"
      ],
      "execution_count": null,
      "outputs": [
        {
          "output_type": "execute_result",
          "data": {
            "text/html": [
              "<div>\n",
              "<style scoped>\n",
              "    .dataframe tbody tr th:only-of-type {\n",
              "        vertical-align: middle;\n",
              "    }\n",
              "\n",
              "    .dataframe tbody tr th {\n",
              "        vertical-align: top;\n",
              "    }\n",
              "\n",
              "    .dataframe thead th {\n",
              "        text-align: right;\n",
              "    }\n",
              "</style>\n",
              "<table border=\"1\" class=\"dataframe\">\n",
              "  <thead>\n",
              "    <tr style=\"text-align: right;\">\n",
              "      <th></th>\n",
              "      <th>session_number</th>\n",
              "      <th>device_details</th>\n",
              "      <th>date</th>\n",
              "      <th>purchased</th>\n",
              "      <th>added_in_cart</th>\n",
              "      <th>checked_out</th>\n",
              "      <th>year</th>\n",
              "      <th>month</th>\n",
              "      <th>week</th>\n",
              "      <th>Day</th>\n",
              "      <th>dayofweek</th>\n",
              "      <th>device_details_name</th>\n",
              "      <th>device_details_browser</th>\n",
              "    </tr>\n",
              "  </thead>\n",
              "  <tbody>\n",
              "    <tr>\n",
              "      <th>0</th>\n",
              "      <td>715</td>\n",
              "      <td>Desktop - Chrome</td>\n",
              "      <td>2020-01-22</td>\n",
              "      <td>1</td>\n",
              "      <td>0</td>\n",
              "      <td>0</td>\n",
              "      <td>2020</td>\n",
              "      <td>1</td>\n",
              "      <td>4</td>\n",
              "      <td>22</td>\n",
              "      <td>2</td>\n",
              "      <td>Desktop</td>\n",
              "      <td>Chrome</td>\n",
              "    </tr>\n",
              "    <tr>\n",
              "      <th>1</th>\n",
              "      <td>55</td>\n",
              "      <td>iPhone - iOS</td>\n",
              "      <td>2020-02-27</td>\n",
              "      <td>1</td>\n",
              "      <td>0</td>\n",
              "      <td>0</td>\n",
              "      <td>2020</td>\n",
              "      <td>2</td>\n",
              "      <td>9</td>\n",
              "      <td>27</td>\n",
              "      <td>3</td>\n",
              "      <td>iPhone</td>\n",
              "      <td>iOS</td>\n",
              "    </tr>\n",
              "    <tr>\n",
              "      <th>2</th>\n",
              "      <td>11</td>\n",
              "      <td>iPhone - MobileWeb</td>\n",
              "      <td>2019-08-01</td>\n",
              "      <td>0</td>\n",
              "      <td>0</td>\n",
              "      <td>0</td>\n",
              "      <td>2019</td>\n",
              "      <td>8</td>\n",
              "      <td>31</td>\n",
              "      <td>1</td>\n",
              "      <td>3</td>\n",
              "      <td>iPhone</td>\n",
              "      <td>MobileWeb</td>\n",
              "    </tr>\n",
              "    <tr>\n",
              "      <th>3</th>\n",
              "      <td>2794</td>\n",
              "      <td>Desktop - IE</td>\n",
              "      <td>2019-12-30</td>\n",
              "      <td>0</td>\n",
              "      <td>1</td>\n",
              "      <td>0</td>\n",
              "      <td>2019</td>\n",
              "      <td>12</td>\n",
              "      <td>1</td>\n",
              "      <td>30</td>\n",
              "      <td>0</td>\n",
              "      <td>Desktop</td>\n",
              "      <td>IE</td>\n",
              "    </tr>\n",
              "    <tr>\n",
              "      <th>4</th>\n",
              "      <td>3674</td>\n",
              "      <td>iPhone - Web</td>\n",
              "      <td>2019-09-10</td>\n",
              "      <td>0</td>\n",
              "      <td>0</td>\n",
              "      <td>0</td>\n",
              "      <td>2019</td>\n",
              "      <td>9</td>\n",
              "      <td>37</td>\n",
              "      <td>10</td>\n",
              "      <td>1</td>\n",
              "      <td>iPhone</td>\n",
              "      <td>Web</td>\n",
              "    </tr>\n",
              "  </tbody>\n",
              "</table>\n",
              "</div>"
            ],
            "text/plain": [
              "   session_number  ... device_details_browser\n",
              "0             715  ...                 Chrome\n",
              "1              55  ...                    iOS\n",
              "2              11  ...              MobileWeb\n",
              "3            2794  ...                     IE\n",
              "4            3674  ...                    Web\n",
              "\n",
              "[5 rows x 13 columns]"
            ]
          },
          "metadata": {
            "tags": []
          },
          "execution_count": 92
        }
      ]
    },
    {
      "cell_type": "code",
      "metadata": {
        "colab": {
          "base_uri": "https://localhost:8080/"
        },
        "id": "PzOYaTL9hU5T",
        "outputId": "0c74eb1d-a894-42e1-9aec-8b4831933d7c"
      },
      "source": [
        "total_df['device_details_browser'].unique()"
      ],
      "execution_count": null,
      "outputs": [
        {
          "output_type": "execute_result",
          "data": {
            "text/plain": [
              "array([' Chrome', ' iOS', ' MobileWeb', ' IE', ' Web', ' Android',\n",
              "       ' Firefox', ' Other', ' Safari'], dtype=object)"
            ]
          },
          "metadata": {
            "tags": []
          },
          "execution_count": 93
        }
      ]
    },
    {
      "cell_type": "code",
      "metadata": {
        "colab": {
          "base_uri": "https://localhost:8080/"
        },
        "id": "wEEXgNX4iMMk",
        "outputId": "23092b82-d5b9-4d4e-948f-338d9cbf59cb"
      },
      "source": [
        "total_df.info()"
      ],
      "execution_count": null,
      "outputs": [
        {
          "output_type": "stream",
          "text": [
            "<class 'pandas.core.frame.DataFrame'>\n",
            "RangeIndex: 7754 entries, 0 to 7753\n",
            "Data columns (total 13 columns):\n",
            " #   Column                  Non-Null Count  Dtype         \n",
            "---  ------                  --------------  -----         \n",
            " 0   session_number          7754 non-null   int64         \n",
            " 1   device_details          7754 non-null   object        \n",
            " 2   date                    7754 non-null   datetime64[ns]\n",
            " 3   purchased               7754 non-null   int64         \n",
            " 4   added_in_cart           7754 non-null   int64         \n",
            " 5   checked_out             7754 non-null   int64         \n",
            " 6   year                    7754 non-null   int64         \n",
            " 7   month                   7754 non-null   int64         \n",
            " 8   week                    7754 non-null   int64         \n",
            " 9   Day                     7754 non-null   int64         \n",
            " 10  dayofweek               7754 non-null   int64         \n",
            " 11  device_details_name     7754 non-null   object        \n",
            " 12  device_details_browser  7754 non-null   object        \n",
            "dtypes: datetime64[ns](1), int64(9), object(3)\n",
            "memory usage: 787.6+ KB\n"
          ],
          "name": "stdout"
        }
      ]
    },
    {
      "cell_type": "code",
      "metadata": {
        "id": "nrIuqGWoqv9W"
      },
      "source": [
        "def mapper(name,df,how): # Custom Function for Label encoding.\r\n",
        "  if how=='nums':\r\n",
        "    sam_dict={}\r\n",
        "    num=1\r\n",
        "    for loc in df[name].unique():\r\n",
        "      sam_dict.update([(loc,num)])\r\n",
        "      num=num+1\r\n",
        "    df[name]=df[name].map(sam_dict)\r\n",
        "  elif how=='proba':\r\n",
        "    an_dict={}\r\n",
        "    for dec in df[name].unique():\r\n",
        "      an_dict.update([(dec,int(df[name].value_counts()[dec]))])\r\n",
        "    df[name]=df[name].map(an_dict)\r\n",
        "    df_max=df[name].max()\r\n",
        "    df[name]=df[name].apply(lambda x:x/df_max)"
      ],
      "execution_count": 18,
      "outputs": []
    },
    {
      "cell_type": "code",
      "metadata": {
        "id": "3A1D4QzOrvte"
      },
      "source": [
        "mapper('device_details',total_df,'nums')\r\n",
        "mapper('device_details_name',total_df,'nums')\r\n",
        "mapper('device_details_browser',total_df,'nums')"
      ],
      "execution_count": 19,
      "outputs": []
    },
    {
      "cell_type": "code",
      "metadata": {
        "colab": {
          "base_uri": "https://localhost:8080/"
        },
        "id": "zKW5ssCL2JAw",
        "outputId": "f405ca9d-6fd5-4379-f05b-2191b218c483"
      },
      "source": [
        "total_df['date'].max()"
      ],
      "execution_count": 20,
      "outputs": [
        {
          "output_type": "execute_result",
          "data": {
            "text/plain": [
              "Timestamp('2020-04-23 00:00:00')"
            ]
          },
          "metadata": {
            "tags": []
          },
          "execution_count": 20
        }
      ]
    },
    {
      "cell_type": "code",
      "metadata": {
        "id": "0uDqqNs92I5V"
      },
      "source": [
        "import datetime as dt\r\n",
        "today_date = dt.date(2020,4,23)"
      ],
      "execution_count": 21,
      "outputs": []
    },
    {
      "cell_type": "code",
      "metadata": {
        "id": "6go074tm2IwT"
      },
      "source": [
        "total_df['date'] = pd.DatetimeIndex(total_df.date).date"
      ],
      "execution_count": 22,
      "outputs": []
    },
    {
      "cell_type": "code",
      "metadata": {
        "id": "GIV8yeAV2IoX"
      },
      "source": [
        "total_df['Recency'] = total_df.date.apply(lambda x : (today_date - x).days)"
      ],
      "execution_count": 23,
      "outputs": []
    },
    {
      "cell_type": "code",
      "metadata": {
        "colab": {
          "base_uri": "https://localhost:8080/"
        },
        "id": "8dAOg_fN2IMU",
        "outputId": "c1d5f71e-5608-40e1-9c89-c9d6f22b0a2a"
      },
      "source": [
        "total_df.info()"
      ],
      "execution_count": 24,
      "outputs": [
        {
          "output_type": "stream",
          "text": [
            "<class 'pandas.core.frame.DataFrame'>\n",
            "RangeIndex: 7754 entries, 0 to 7753\n",
            "Data columns (total 14 columns):\n",
            " #   Column                  Non-Null Count  Dtype \n",
            "---  ------                  --------------  ----- \n",
            " 0   session_number          7754 non-null   int64 \n",
            " 1   device_details          7754 non-null   int64 \n",
            " 2   date                    7754 non-null   object\n",
            " 3   purchased               7754 non-null   int64 \n",
            " 4   added_in_cart           7754 non-null   int64 \n",
            " 5   checked_out             7754 non-null   int64 \n",
            " 6   year                    7754 non-null   int64 \n",
            " 7   month                   7754 non-null   int64 \n",
            " 8   week                    7754 non-null   int64 \n",
            " 9   Day                     7754 non-null   int64 \n",
            " 10  dayofweek               7754 non-null   int64 \n",
            " 11  device_details_name     7754 non-null   int64 \n",
            " 12  device_details_browser  7754 non-null   int64 \n",
            " 13  Recency                 7754 non-null   int64 \n",
            "dtypes: int64(13), object(1)\n",
            "memory usage: 848.2+ KB\n"
          ],
          "name": "stdout"
        }
      ]
    },
    {
      "cell_type": "code",
      "metadata": {
        "colab": {
          "base_uri": "https://localhost:8080/"
        },
        "id": "vJzpdCxop4Hg",
        "outputId": "97827cbf-76e7-4f27-f2fd-bfa588cc75c5"
      },
      "source": [
        "total_df['session_number'].nunique()"
      ],
      "execution_count": 25,
      "outputs": [
        {
          "output_type": "execute_result",
          "data": {
            "text/plain": [
              "700"
            ]
          },
          "metadata": {
            "tags": []
          },
          "execution_count": 25
        }
      ]
    },
    {
      "cell_type": "code",
      "metadata": {
        "colab": {
          "base_uri": "https://localhost:8080/"
        },
        "id": "Gz2fmaMop0Qj",
        "outputId": "113d2d30-0eb5-4ee4-9694-cc96dc54bf78"
      },
      "source": [
        "total_df.columns"
      ],
      "execution_count": 26,
      "outputs": [
        {
          "output_type": "execute_result",
          "data": {
            "text/plain": [
              "Index(['session_number', 'device_details', 'date', 'purchased',\n",
              "       'added_in_cart', 'checked_out', 'year', 'month', 'week', 'Day',\n",
              "       'dayofweek', 'device_details_name', 'device_details_browser',\n",
              "       'Recency'],\n",
              "      dtype='object')"
            ]
          },
          "metadata": {
            "tags": []
          },
          "execution_count": 26
        }
      ]
    },
    {
      "cell_type": "code",
      "metadata": {
        "id": "DlY36GcIpv-I"
      },
      "source": [
        "cat_feats=['session_number','device_details','purchased','added_in_cart','checked_out','year','month','week','Day','dayofweek','device_details_name','device_details_browser']"
      ],
      "execution_count": 27,
      "outputs": []
    },
    {
      "cell_type": "code",
      "metadata": {
        "colab": {
          "base_uri": "https://localhost:8080/"
        },
        "id": "SiRPmmkbfMoZ",
        "outputId": "242090fb-b353-428e-9e8e-72286c5990ff"
      },
      "source": [
        "train_data.shape"
      ],
      "execution_count": 28,
      "outputs": [
        {
          "output_type": "execute_result",
          "data": {
            "text/plain": [
              "(5427, 9)"
            ]
          },
          "metadata": {
            "tags": []
          },
          "execution_count": 28
        }
      ]
    },
    {
      "cell_type": "code",
      "metadata": {
        "id": "cp6OB-xE2ICp"
      },
      "source": [
        "X_train=total_df.drop('date',axis=1)[0:5427]\r\n",
        "X_test=total_df.drop('date',axis=1)[5427:]\r\n",
        "Y=train_data['time_spent']"
      ],
      "execution_count": 29,
      "outputs": []
    },
    {
      "cell_type": "code",
      "metadata": {
        "colab": {
          "base_uri": "https://localhost:8080/"
        },
        "id": "ijlojpH-x_x-",
        "outputId": "78f4b372-046a-4aa7-f035-bf9e43296e0e"
      },
      "source": [
        "X_train.shape"
      ],
      "execution_count": 30,
      "outputs": [
        {
          "output_type": "execute_result",
          "data": {
            "text/plain": [
              "(5427, 13)"
            ]
          },
          "metadata": {
            "tags": []
          },
          "execution_count": 30
        }
      ]
    },
    {
      "cell_type": "code",
      "metadata": {
        "id": "Snwf12s8rOPh"
      },
      "source": [
        "X_train['time_spent']=Y"
      ],
      "execution_count": 32,
      "outputs": []
    },
    {
      "cell_type": "code",
      "metadata": {
        "id": "UbLv5mf12H5B"
      },
      "source": [
        "def mean_encoder(var_name,target_name):\r\n",
        "  var_unique=list(X_train[var_name].unique())\r\n",
        "  var_dict={}\r\n",
        "  for item in var_unique:\r\n",
        "    value=X_train[X_train[var_name]==item][target_name].mean()\r\n",
        "    var_dict.update([(item,value)])\r\n",
        "  return var_dict"
      ],
      "execution_count": 31,
      "outputs": []
    },
    {
      "cell_type": "code",
      "metadata": {
        "id": "6H2MWXjSokDL"
      },
      "source": [
        "for tar in ['time_spent','Recency']:\r\n",
        "  for var in cat_feats:\r\n",
        "    X_train[var+'_mean']=X_train[var].map(mean_encoder(var,tar))\r\n",
        "    X_test[var+'_mean']=X_test[var].map(mean_encoder(var,tar))"
      ],
      "execution_count": 33,
      "outputs": []
    },
    {
      "cell_type": "code",
      "metadata": {
        "id": "_zoi1VjAoj4n"
      },
      "source": [
        "X_train.drop('time_spent',axis=1,inplace=True)"
      ],
      "execution_count": 34,
      "outputs": []
    },
    {
      "cell_type": "code",
      "metadata": {
        "colab": {
          "base_uri": "https://localhost:8080/"
        },
        "id": "xzD0ZOABojvK",
        "outputId": "ac17f60a-40b0-4224-9c1d-4bebdca6f20b"
      },
      "source": [
        "X_train.shape, X_test.shape"
      ],
      "execution_count": 35,
      "outputs": [
        {
          "output_type": "execute_result",
          "data": {
            "text/plain": [
              "((5427, 25), (2327, 25))"
            ]
          },
          "metadata": {
            "tags": []
          },
          "execution_count": 35
        }
      ]
    },
    {
      "cell_type": "code",
      "metadata": {
        "id": "7g8X_VF_-0BN"
      },
      "source": [
        "for cols in X_test.columns:\r\n",
        "    try:\r\n",
        "        X_test[cols].replace([np.inf,-np.inf],np.nan,inplace=True)\r\n",
        "        X_test[cols]=X_test[cols].fillna(np.mean(X_test[cols]))\r\n",
        "    except:\r\n",
        "        continue"
      ],
      "execution_count": 36,
      "outputs": []
    },
    {
      "cell_type": "code",
      "metadata": {
        "id": "vyFFrlXMDOy8"
      },
      "source": [
        "'''\r\n",
        "from sklearn.linear_model import BayesianRidge, LinearRegression, LassoLars, Ridge, ElasticNet, Lasso\r\n",
        "from sklearn.model_selection import cross_val_score\r\n",
        "'''"
      ],
      "execution_count": null,
      "outputs": []
    },
    {
      "cell_type": "markdown",
      "metadata": {
        "id": "M688KdpxjGvD"
      },
      "source": [
        "# Using LightGBM"
      ]
    },
    {
      "cell_type": "code",
      "metadata": {
        "colab": {
          "base_uri": "https://localhost:8080/"
        },
        "id": "fQXBKQSyixxQ",
        "outputId": "92293b6e-036e-40cb-edb4-dafc562044c5"
      },
      "source": [
        "! pip install lightgbm==3.0"
      ],
      "execution_count": null,
      "outputs": [
        {
          "output_type": "stream",
          "text": [
            "Collecting lightgbm==3.0\n",
            "\u001b[?25l  Downloading https://files.pythonhosted.org/packages/25/47/f8ef524e15ff86f5246cb4e1cee200b747ddb2536429fa021cc5f17ea40a/lightgbm-3.0.0-py2.py3-none-manylinux1_x86_64.whl (1.7MB)\n",
            "\u001b[K     |████████████████████████████████| 1.8MB 5.2MB/s \n",
            "\u001b[?25hRequirement already satisfied: scipy in /usr/local/lib/python3.6/dist-packages (from lightgbm==3.0) (1.4.1)\n",
            "Requirement already satisfied: scikit-learn!=0.22.0 in /usr/local/lib/python3.6/dist-packages (from lightgbm==3.0) (0.22.2.post1)\n",
            "Requirement already satisfied: numpy in /usr/local/lib/python3.6/dist-packages (from lightgbm==3.0) (1.19.4)\n",
            "Requirement already satisfied: joblib>=0.11 in /usr/local/lib/python3.6/dist-packages (from scikit-learn!=0.22.0->lightgbm==3.0) (1.0.0)\n",
            "Installing collected packages: lightgbm\n",
            "  Found existing installation: lightgbm 2.2.3\n",
            "    Uninstalling lightgbm-2.2.3:\n",
            "      Successfully uninstalled lightgbm-2.2.3\n",
            "Successfully installed lightgbm-3.0.0\n"
          ],
          "name": "stdout"
        }
      ]
    },
    {
      "cell_type": "code",
      "metadata": {
        "id": "oAVdefusjKEJ"
      },
      "source": [
        "import lightgbm as lgb"
      ],
      "execution_count": null,
      "outputs": []
    },
    {
      "cell_type": "code",
      "metadata": {
        "id": "kKqk1NkhjKJt"
      },
      "source": [
        "#from sklearn.model_selection import GridSearchCV"
      ],
      "execution_count": null,
      "outputs": []
    },
    {
      "cell_type": "code",
      "metadata": {
        "id": "HAxIR-xKjKRU"
      },
      "source": [
        "#lgb_params={'num_leaves':[12,13,14,15,16,17,18,19,20,21,22,23,24,25,26],'depth':[3,4,5],'learning_rate':np.linspace(0.01,0.3,20)}"
      ],
      "execution_count": null,
      "outputs": []
    },
    {
      "cell_type": "code",
      "metadata": {
        "id": "sHXykrRNjKZI"
      },
      "source": [
        "#lgb_grid=GridSearchCV(estimator=lgb.LGBMRegressor(),cv=3,param_grid=lgb_params,verbose=2,scoring=RMSLE)#param_grid=lgb_params"
      ],
      "execution_count": null,
      "outputs": []
    },
    {
      "cell_type": "code",
      "metadata": {
        "id": "Ejvme4pIjKgi"
      },
      "source": [
        "#lgb_grid.fit(X_train,Y)"
      ],
      "execution_count": null,
      "outputs": []
    },
    {
      "cell_type": "code",
      "metadata": {
        "colab": {
          "base_uri": "https://localhost:8080/"
        },
        "id": "gz1l1y3XjKnj",
        "outputId": "a810ee06-3730-40ed-faf3-6c72a1bcd308"
      },
      "source": [
        "#lgb_grid.best_score_"
      ],
      "execution_count": null,
      "outputs": [
        {
          "output_type": "execute_result",
          "data": {
            "text/plain": [
              "2.0772340090912707"
            ]
          },
          "metadata": {
            "tags": []
          },
          "execution_count": 90
        }
      ]
    },
    {
      "cell_type": "code",
      "metadata": {
        "colab": {
          "base_uri": "https://localhost:8080/"
        },
        "id": "RtWJWtAPjKtp",
        "outputId": "5b2b77a9-f9b4-4f38-cda6-f91fca40884d"
      },
      "source": [
        "#lgb_grid.best_params_"
      ],
      "execution_count": null,
      "outputs": [
        {
          "output_type": "execute_result",
          "data": {
            "text/plain": [
              "{'depth': 3, 'learning_rate': 0.01, 'num_leaves': 12}"
            ]
          },
          "metadata": {
            "tags": []
          },
          "execution_count": 91
        }
      ]
    },
    {
      "cell_type": "code",
      "metadata": {
        "id": "Z94eYM_d_nWK"
      },
      "source": [
        "#lgb_model= lgb.LGBMRegressor(depth=3,num_leaves=12,learning_rate=0.01)"
      ],
      "execution_count": null,
      "outputs": []
    },
    {
      "cell_type": "code",
      "metadata": {
        "colab": {
          "base_uri": "https://localhost:8080/"
        },
        "id": "KyJuYZu2_nNd",
        "outputId": "e7dfd621-9b30-4a2f-8df3-1e52e22bc555"
      },
      "source": [
        "#lgb_model.fit(X_train,np.log1p(Y))"
      ],
      "execution_count": null,
      "outputs": [
        {
          "output_type": "execute_result",
          "data": {
            "text/plain": [
              "LGBMRegressor(boosting_type='gbdt', class_weight=None, colsample_bytree=1.0,\n",
              "              depth=3, importance_type='split', learning_rate=0.01,\n",
              "              max_depth=-1, min_child_samples=20, min_child_weight=0.001,\n",
              "              min_split_gain=0.0, n_estimators=100, n_jobs=-1, num_leaves=12,\n",
              "              objective=None, random_state=None, reg_alpha=0.0, reg_lambda=0.0,\n",
              "              silent=True, subsample=1.0, subsample_for_bin=200000,\n",
              "              subsample_freq=0)"
            ]
          },
          "metadata": {
            "tags": []
          },
          "execution_count": 110
        }
      ]
    },
    {
      "cell_type": "code",
      "metadata": {
        "id": "xuMHEB3r_4Ju"
      },
      "source": [
        "#lgb_pred=lgb_model.predict(X_test)"
      ],
      "execution_count": null,
      "outputs": []
    },
    {
      "cell_type": "code",
      "metadata": {
        "id": "YA05l9HT_4Si"
      },
      "source": [
        "#lgb_pred_df=pd.DataFrame(data=2.7182818284590452353602874713527**(lgb_pred),columns=['time_spent'])"
      ],
      "execution_count": null,
      "outputs": []
    },
    {
      "cell_type": "code",
      "metadata": {
        "colab": {
          "base_uri": "https://localhost:8080/",
          "height": 195
        },
        "id": "8EsySyN3_4dg",
        "outputId": "e2dcd7ef-2657-4fa5-b193-8a606838ebc4"
      },
      "source": [
        "#lgb_pred_df.head()"
      ],
      "execution_count": null,
      "outputs": [
        {
          "output_type": "execute_result",
          "data": {
            "text/html": [
              "<div>\n",
              "<style scoped>\n",
              "    .dataframe tbody tr th:only-of-type {\n",
              "        vertical-align: middle;\n",
              "    }\n",
              "\n",
              "    .dataframe tbody tr th {\n",
              "        vertical-align: top;\n",
              "    }\n",
              "\n",
              "    .dataframe thead th {\n",
              "        text-align: right;\n",
              "    }\n",
              "</style>\n",
              "<table border=\"1\" class=\"dataframe\">\n",
              "  <thead>\n",
              "    <tr style=\"text-align: right;\">\n",
              "      <th></th>\n",
              "      <th>time_spent</th>\n",
              "    </tr>\n",
              "  </thead>\n",
              "  <tbody>\n",
              "    <tr>\n",
              "      <th>0</th>\n",
              "      <td>320.689952</td>\n",
              "    </tr>\n",
              "    <tr>\n",
              "      <th>1</th>\n",
              "      <td>100.384408</td>\n",
              "    </tr>\n",
              "    <tr>\n",
              "      <th>2</th>\n",
              "      <td>320.689952</td>\n",
              "    </tr>\n",
              "    <tr>\n",
              "      <th>3</th>\n",
              "      <td>128.323568</td>\n",
              "    </tr>\n",
              "    <tr>\n",
              "      <th>4</th>\n",
              "      <td>104.727732</td>\n",
              "    </tr>\n",
              "  </tbody>\n",
              "</table>\n",
              "</div>"
            ],
            "text/plain": [
              "   time_spent\n",
              "0  320.689952\n",
              "1  100.384408\n",
              "2  320.689952\n",
              "3  128.323568\n",
              "4  104.727732"
            ]
          },
          "metadata": {
            "tags": []
          },
          "execution_count": 115
        }
      ]
    },
    {
      "cell_type": "markdown",
      "metadata": {
        "id": "EOlyEvTiiy65"
      },
      "source": [
        "# Using Catboost"
      ]
    },
    {
      "cell_type": "code",
      "metadata": {
        "colab": {
          "base_uri": "https://localhost:8080/"
        },
        "id": "XT0P03zk1Wr4",
        "outputId": "941328d9-bef8-4d34-dc10-aeb1a6f0fb4b"
      },
      "source": [
        "! pip install catboost"
      ],
      "execution_count": 37,
      "outputs": [
        {
          "output_type": "stream",
          "text": [
            "Collecting catboost\n",
            "\u001b[?25l  Downloading https://files.pythonhosted.org/packages/20/37/bc4e0ddc30c07a96482abf1de7ed1ca54e59bba2026a33bca6d2ef286e5b/catboost-0.24.4-cp36-none-manylinux1_x86_64.whl (65.7MB)\n",
            "\u001b[K     |████████████████████████████████| 65.8MB 60kB/s \n",
            "\u001b[?25hRequirement already satisfied: plotly in /usr/local/lib/python3.6/dist-packages (from catboost) (4.4.1)\n",
            "Requirement already satisfied: numpy>=1.16.0 in /usr/local/lib/python3.6/dist-packages (from catboost) (1.19.4)\n",
            "Requirement already satisfied: pandas>=0.24.0 in /usr/local/lib/python3.6/dist-packages (from catboost) (1.1.5)\n",
            "Requirement already satisfied: matplotlib in /usr/local/lib/python3.6/dist-packages (from catboost) (3.2.2)\n",
            "Requirement already satisfied: scipy in /usr/local/lib/python3.6/dist-packages (from catboost) (1.4.1)\n",
            "Requirement already satisfied: six in /usr/local/lib/python3.6/dist-packages (from catboost) (1.15.0)\n",
            "Requirement already satisfied: graphviz in /usr/local/lib/python3.6/dist-packages (from catboost) (0.10.1)\n",
            "Requirement already satisfied: retrying>=1.3.3 in /usr/local/lib/python3.6/dist-packages (from plotly->catboost) (1.3.3)\n",
            "Requirement already satisfied: pytz>=2017.2 in /usr/local/lib/python3.6/dist-packages (from pandas>=0.24.0->catboost) (2018.9)\n",
            "Requirement already satisfied: python-dateutil>=2.7.3 in /usr/local/lib/python3.6/dist-packages (from pandas>=0.24.0->catboost) (2.8.1)\n",
            "Requirement already satisfied: pyparsing!=2.0.4,!=2.1.2,!=2.1.6,>=2.0.1 in /usr/local/lib/python3.6/dist-packages (from matplotlib->catboost) (2.4.7)\n",
            "Requirement already satisfied: kiwisolver>=1.0.1 in /usr/local/lib/python3.6/dist-packages (from matplotlib->catboost) (1.3.1)\n",
            "Requirement already satisfied: cycler>=0.10 in /usr/local/lib/python3.6/dist-packages (from matplotlib->catboost) (0.10.0)\n",
            "Installing collected packages: catboost\n",
            "Successfully installed catboost-0.24.4\n"
          ],
          "name": "stdout"
        }
      ]
    },
    {
      "cell_type": "code",
      "metadata": {
        "id": "_kO52sXZ1W2T"
      },
      "source": [
        "import catboost as cb\r\n",
        "from sklearn.model_selection import GridSearchCV"
      ],
      "execution_count": 38,
      "outputs": []
    },
    {
      "cell_type": "code",
      "metadata": {
        "id": "E9HDToET1XDI"
      },
      "source": [
        "cb_params={'depth':[2,3],'learning_rate':np.linspace(0.0001,0.001,15),'iterations':[3,4,5,6]}"
      ],
      "execution_count": null,
      "outputs": []
    },
    {
      "cell_type": "code",
      "metadata": {
        "id": "eIGh37F41OrO"
      },
      "source": [
        "cb_grid=GridSearchCV(estimator=cb.CatBoostRegressor(verbose=0),param_grid=cb_params,scoring=RMSLE,cv=3,verbose=2)"
      ],
      "execution_count": null,
      "outputs": []
    },
    {
      "cell_type": "code",
      "metadata": {
        "id": "ARRfbXip1OzA"
      },
      "source": [
        "#cb_grid.fit(X_train,Y)"
      ],
      "execution_count": null,
      "outputs": []
    },
    {
      "cell_type": "code",
      "metadata": {
        "colab": {
          "base_uri": "https://localhost:8080/"
        },
        "id": "1cR1XvCCkB7f",
        "outputId": "738eb8c0-c58c-4f55-f775-e7d08fab1c7f"
      },
      "source": [
        "cb_grid.best_params_"
      ],
      "execution_count": null,
      "outputs": [
        {
          "output_type": "execute_result",
          "data": {
            "text/plain": [
              "{'depth': 2, 'iterations': 3, 'learning_rate': 0.0001}"
            ]
          },
          "metadata": {
            "tags": []
          },
          "execution_count": 142
        }
      ]
    },
    {
      "cell_type": "code",
      "metadata": {
        "id": "-lsCgAlQkCFw"
      },
      "source": [
        "e=2.7182818284590452353602874713527"
      ],
      "execution_count": 50,
      "outputs": []
    },
    {
      "cell_type": "code",
      "metadata": {
        "id": "xH5ucpip1O-n"
      },
      "source": [
        "cb_model=cb.CatBoostRegressor(depth=2,iterations=3,learning_rate=0.00001,verbose=0)"
      ],
      "execution_count": 45,
      "outputs": []
    },
    {
      "cell_type": "code",
      "metadata": {
        "colab": {
          "base_uri": "https://localhost:8080/"
        },
        "id": "zDj35p681PJH",
        "outputId": "7bd9c2a1-71ac-44fe-bdb5-d7cad1e008d2"
      },
      "source": [
        "cb_model.fit(X_train,np.log1p(Y))"
      ],
      "execution_count": 46,
      "outputs": [
        {
          "output_type": "execute_result",
          "data": {
            "text/plain": [
              "<catboost.core.CatBoostRegressor at 0x7f6ab8bf9d68>"
            ]
          },
          "metadata": {
            "tags": []
          },
          "execution_count": 46
        }
      ]
    },
    {
      "cell_type": "code",
      "metadata": {
        "id": "vgfd_I15jUZb"
      },
      "source": [
        "cb_preds=cb_model.predict(X_test)"
      ],
      "execution_count": 47,
      "outputs": []
    },
    {
      "cell_type": "code",
      "metadata": {
        "id": "v0Pqq59Sq4Gg"
      },
      "source": [
        "cb_preds_df=pd.DataFrame(data=e**(cb_preds),columns=['time_spent'])"
      ],
      "execution_count": 48,
      "outputs": []
    },
    {
      "cell_type": "code",
      "metadata": {
        "colab": {
          "base_uri": "https://localhost:8080/",
          "height": 195
        },
        "id": "rT_7EzR0rAbw",
        "outputId": "ec910b94-f8b5-47cd-b5fa-d266d1b73deb"
      },
      "source": [
        "cb_preds_df.head()"
      ],
      "execution_count": 49,
      "outputs": [
        {
          "output_type": "execute_result",
          "data": {
            "text/html": [
              "<div>\n",
              "<style scoped>\n",
              "    .dataframe tbody tr th:only-of-type {\n",
              "        vertical-align: middle;\n",
              "    }\n",
              "\n",
              "    .dataframe tbody tr th {\n",
              "        vertical-align: top;\n",
              "    }\n",
              "\n",
              "    .dataframe thead th {\n",
              "        text-align: right;\n",
              "    }\n",
              "</style>\n",
              "<table border=\"1\" class=\"dataframe\">\n",
              "  <thead>\n",
              "    <tr style=\"text-align: right;\">\n",
              "      <th></th>\n",
              "      <th>time_spent</th>\n",
              "    </tr>\n",
              "  </thead>\n",
              "  <tbody>\n",
              "    <tr>\n",
              "      <th>0</th>\n",
              "      <td>137.922744</td>\n",
              "    </tr>\n",
              "    <tr>\n",
              "      <th>1</th>\n",
              "      <td>137.914725</td>\n",
              "    </tr>\n",
              "    <tr>\n",
              "      <th>2</th>\n",
              "      <td>137.922744</td>\n",
              "    </tr>\n",
              "    <tr>\n",
              "      <th>3</th>\n",
              "      <td>137.914725</td>\n",
              "    </tr>\n",
              "    <tr>\n",
              "      <th>4</th>\n",
              "      <td>137.914725</td>\n",
              "    </tr>\n",
              "  </tbody>\n",
              "</table>\n",
              "</div>"
            ],
            "text/plain": [
              "   time_spent\n",
              "0  137.922744\n",
              "1  137.914725\n",
              "2  137.922744\n",
              "3  137.914725\n",
              "4  137.914725"
            ]
          },
          "metadata": {
            "tags": []
          },
          "execution_count": 49
        }
      ]
    },
    {
      "cell_type": "code",
      "metadata": {
        "colab": {
          "base_uri": "https://localhost:8080/"
        },
        "id": "x3CiaM8v8cJC",
        "outputId": "5e7a7fdf-ae43-4492-fcf2-c0187fecbb05"
      },
      "source": [
        "cb_preds_df['time_spent'].unique()"
      ],
      "execution_count": 51,
      "outputs": [
        {
          "output_type": "execute_result",
          "data": {
            "text/plain": [
              "array([137.9227438 , 137.91472481, 137.92291336, 137.92813243])"
            ]
          },
          "metadata": {
            "tags": []
          },
          "execution_count": 51
        }
      ]
    },
    {
      "cell_type": "code",
      "metadata": {
        "id": "UWusK7cqrDkh"
      },
      "source": [
        "cb_preds_df.to_csv('cb6.csv',index=False)"
      ],
      "execution_count": null,
      "outputs": []
    }
  ]
}